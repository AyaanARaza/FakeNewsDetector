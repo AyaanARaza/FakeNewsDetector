{
  "nbformat": 4,
  "nbformat_minor": 0,
  "metadata": {
    "colab": {
      "provenance": []
    },
    "kernelspec": {
      "name": "python3",
      "display_name": "Python 3"
    },
    "language_info": {
      "name": "python"
    }
  },
  "cells": [
    {
      "cell_type": "code",
      "source": [
        "!pip install skl2onnx onnxmltools"
      ],
      "metadata": {
        "colab": {
          "base_uri": "https://localhost:8080/"
        },
        "id": "--yjQgbvx-V7",
        "outputId": "82141a1a-dae4-4306-9cb6-21e111337f12"
      },
      "execution_count": 26,
      "outputs": [
        {
          "output_type": "stream",
          "name": "stdout",
          "text": [
            "Requirement already satisfied: skl2onnx in /usr/local/lib/python3.11/dist-packages (1.19.1)\n",
            "Requirement already satisfied: onnxmltools in /usr/local/lib/python3.11/dist-packages (1.14.0)\n",
            "Requirement already satisfied: onnx>=1.2.1 in /usr/local/lib/python3.11/dist-packages (from skl2onnx) (1.18.0)\n",
            "Requirement already satisfied: scikit-learn>=1.1 in /usr/local/lib/python3.11/dist-packages (from skl2onnx) (1.6.1)\n",
            "Requirement already satisfied: numpy in /usr/local/lib/python3.11/dist-packages (from onnxmltools) (2.0.2)\n",
            "Requirement already satisfied: protobuf>=4.25.1 in /usr/local/lib/python3.11/dist-packages (from onnx>=1.2.1->skl2onnx) (5.29.5)\n",
            "Requirement already satisfied: typing_extensions>=4.7.1 in /usr/local/lib/python3.11/dist-packages (from onnx>=1.2.1->skl2onnx) (4.14.1)\n",
            "Requirement already satisfied: scipy>=1.6.0 in /usr/local/lib/python3.11/dist-packages (from scikit-learn>=1.1->skl2onnx) (1.16.0)\n",
            "Requirement already satisfied: joblib>=1.2.0 in /usr/local/lib/python3.11/dist-packages (from scikit-learn>=1.1->skl2onnx) (1.5.1)\n",
            "Requirement already satisfied: threadpoolctl>=3.1.0 in /usr/local/lib/python3.11/dist-packages (from scikit-learn>=1.1->skl2onnx) (3.6.0)\n"
          ]
        }
      ]
    },
    {
      "cell_type": "code",
      "execution_count": 27,
      "metadata": {
        "id": "TGUdG5znBfV9"
      },
      "outputs": [],
      "source": [
        "#Libraries\n",
        "import pandas as pd\n",
        "import numpy as np\n",
        "import matplotlib.pyplot as plt\n",
        "from sklearn.model_selection import train_test_split\n",
        "from sklearn.feature_extraction.text import CountVectorizer\n",
        "from sklearn.naive_bayes import MultinomialNB\n",
        "from sklearn.metrics import accuracy_score, classification_report\n",
        "from sklearn.svm import LinearSVC\n",
        "from xgboost import XGBClassifier\n",
        "from google.colab import files\n",
        "from skl2onnx import convert_sklearn\n",
        "from skl2onnx.common.data_types import FloatTensorType\n",
        "from onnxmltools.convert import convert_xgboost\n",
        "from onnxmltools.convert.common.data_types import FloatTensorType as FTT\n",
        "import nltk\n",
        "from nltk.stem import WordNetLemmatizer\n",
        "from nltk.tokenize import word_tokenize\n",
        "\n",
        "\n",
        "\n",
        "\n",
        "%matplotlib inline"
      ]
    },
    {
      "cell_type": "markdown",
      "source": [
        "https://www.kaggle.com/datasets/hassanamin/textdb3\n",
        "\n",
        "1 is Fake\n",
        "0 is Real"
      ],
      "metadata": {
        "id": "_lkRTM1hNULa"
      }
    },
    {
      "cell_type": "code",
      "source": [
        "! gdown 1ZI9PMSKF1j2cJXZKNXc0EfzDJt3IwB-5"
      ],
      "metadata": {
        "id": "MZzBsLPdagDe",
        "colab": {
          "base_uri": "https://localhost:8080/"
        },
        "outputId": "df34b699-4246-441a-f5d0-2fccddd73b73"
      },
      "execution_count": 28,
      "outputs": [
        {
          "output_type": "stream",
          "name": "stdout",
          "text": [
            "Downloading...\n",
            "From: https://drive.google.com/uc?id=1ZI9PMSKF1j2cJXZKNXc0EfzDJt3IwB-5\n",
            "To: /content/cleaned_final.csv\n",
            "100% 28.8M/28.8M [00:00<00:00, 73.2MB/s]\n"
          ]
        }
      ]
    },
    {
      "cell_type": "code",
      "metadata": {
        "colab": {
          "base_uri": "https://localhost:8080/",
          "height": 206
        },
        "id": "sO9d1s3tY25a",
        "outputId": "135b317f-ae7a-47f8-e464-e447469b49d1"
      },
      "source": [
        "df = pd.read_csv(\"cleaned_final.csv\")\n",
        "df.head()"
      ],
      "execution_count": 29,
      "outputs": [
        {
          "output_type": "execute_result",
          "data": {
            "text/plain": [
              "                                               title  \\\n",
              "0                       You Can Smell Hillary s Fear   \n",
              "1  Watch The Exact Moment Paul Ryan Committed Pol...   \n",
              "2        Kerry to go to Paris in gesture of sympathy   \n",
              "3  Bernie supporters on Twitter erupt in anger ag...   \n",
              "4   The Battle of New York: Why This Primary Matters   \n",
              "\n",
              "                                                text  label  \n",
              "0  Daniel Greenfield, a Shillman Journalism Fello...      1  \n",
              "1  Google Pinterest Digg Linkedin Reddit Stumbleu...      1  \n",
              "2  U.S. Secretary of State John F. Kerry said Mon...      0  \n",
              "3   Kaydee King (@KaydeeKing) November 9, 2016 Th...      1  \n",
              "4  It's primary day in New York and front-runners...      0  "
            ],
            "text/html": [
              "\n",
              "  <div id=\"df-843588ca-310e-4d89-8bc1-3232ddd12b29\" class=\"colab-df-container\">\n",
              "    <div>\n",
              "<style scoped>\n",
              "    .dataframe tbody tr th:only-of-type {\n",
              "        vertical-align: middle;\n",
              "    }\n",
              "\n",
              "    .dataframe tbody tr th {\n",
              "        vertical-align: top;\n",
              "    }\n",
              "\n",
              "    .dataframe thead th {\n",
              "        text-align: right;\n",
              "    }\n",
              "</style>\n",
              "<table border=\"1\" class=\"dataframe\">\n",
              "  <thead>\n",
              "    <tr style=\"text-align: right;\">\n",
              "      <th></th>\n",
              "      <th>title</th>\n",
              "      <th>text</th>\n",
              "      <th>label</th>\n",
              "    </tr>\n",
              "  </thead>\n",
              "  <tbody>\n",
              "    <tr>\n",
              "      <th>0</th>\n",
              "      <td>You Can Smell Hillary s Fear</td>\n",
              "      <td>Daniel Greenfield, a Shillman Journalism Fello...</td>\n",
              "      <td>1</td>\n",
              "    </tr>\n",
              "    <tr>\n",
              "      <th>1</th>\n",
              "      <td>Watch The Exact Moment Paul Ryan Committed Pol...</td>\n",
              "      <td>Google Pinterest Digg Linkedin Reddit Stumbleu...</td>\n",
              "      <td>1</td>\n",
              "    </tr>\n",
              "    <tr>\n",
              "      <th>2</th>\n",
              "      <td>Kerry to go to Paris in gesture of sympathy</td>\n",
              "      <td>U.S. Secretary of State John F. Kerry said Mon...</td>\n",
              "      <td>0</td>\n",
              "    </tr>\n",
              "    <tr>\n",
              "      <th>3</th>\n",
              "      <td>Bernie supporters on Twitter erupt in anger ag...</td>\n",
              "      <td>Kaydee King (@KaydeeKing) November 9, 2016 Th...</td>\n",
              "      <td>1</td>\n",
              "    </tr>\n",
              "    <tr>\n",
              "      <th>4</th>\n",
              "      <td>The Battle of New York: Why This Primary Matters</td>\n",
              "      <td>It's primary day in New York and front-runners...</td>\n",
              "      <td>0</td>\n",
              "    </tr>\n",
              "  </tbody>\n",
              "</table>\n",
              "</div>\n",
              "    <div class=\"colab-df-buttons\">\n",
              "\n",
              "  <div class=\"colab-df-container\">\n",
              "    <button class=\"colab-df-convert\" onclick=\"convertToInteractive('df-843588ca-310e-4d89-8bc1-3232ddd12b29')\"\n",
              "            title=\"Convert this dataframe to an interactive table.\"\n",
              "            style=\"display:none;\">\n",
              "\n",
              "  <svg xmlns=\"http://www.w3.org/2000/svg\" height=\"24px\" viewBox=\"0 -960 960 960\">\n",
              "    <path d=\"M120-120v-720h720v720H120Zm60-500h600v-160H180v160Zm220 220h160v-160H400v160Zm0 220h160v-160H400v160ZM180-400h160v-160H180v160Zm440 0h160v-160H620v160ZM180-180h160v-160H180v160Zm440 0h160v-160H620v160Z\"/>\n",
              "  </svg>\n",
              "    </button>\n",
              "\n",
              "  <style>\n",
              "    .colab-df-container {\n",
              "      display:flex;\n",
              "      gap: 12px;\n",
              "    }\n",
              "\n",
              "    .colab-df-convert {\n",
              "      background-color: #E8F0FE;\n",
              "      border: none;\n",
              "      border-radius: 50%;\n",
              "      cursor: pointer;\n",
              "      display: none;\n",
              "      fill: #1967D2;\n",
              "      height: 32px;\n",
              "      padding: 0 0 0 0;\n",
              "      width: 32px;\n",
              "    }\n",
              "\n",
              "    .colab-df-convert:hover {\n",
              "      background-color: #E2EBFA;\n",
              "      box-shadow: 0px 1px 2px rgba(60, 64, 67, 0.3), 0px 1px 3px 1px rgba(60, 64, 67, 0.15);\n",
              "      fill: #174EA6;\n",
              "    }\n",
              "\n",
              "    .colab-df-buttons div {\n",
              "      margin-bottom: 4px;\n",
              "    }\n",
              "\n",
              "    [theme=dark] .colab-df-convert {\n",
              "      background-color: #3B4455;\n",
              "      fill: #D2E3FC;\n",
              "    }\n",
              "\n",
              "    [theme=dark] .colab-df-convert:hover {\n",
              "      background-color: #434B5C;\n",
              "      box-shadow: 0px 1px 3px 1px rgba(0, 0, 0, 0.15);\n",
              "      filter: drop-shadow(0px 1px 2px rgba(0, 0, 0, 0.3));\n",
              "      fill: #FFFFFF;\n",
              "    }\n",
              "  </style>\n",
              "\n",
              "    <script>\n",
              "      const buttonEl =\n",
              "        document.querySelector('#df-843588ca-310e-4d89-8bc1-3232ddd12b29 button.colab-df-convert');\n",
              "      buttonEl.style.display =\n",
              "        google.colab.kernel.accessAllowed ? 'block' : 'none';\n",
              "\n",
              "      async function convertToInteractive(key) {\n",
              "        const element = document.querySelector('#df-843588ca-310e-4d89-8bc1-3232ddd12b29');\n",
              "        const dataTable =\n",
              "          await google.colab.kernel.invokeFunction('convertToInteractive',\n",
              "                                                    [key], {});\n",
              "        if (!dataTable) return;\n",
              "\n",
              "        const docLinkHtml = 'Like what you see? Visit the ' +\n",
              "          '<a target=\"_blank\" href=https://colab.research.google.com/notebooks/data_table.ipynb>data table notebook</a>'\n",
              "          + ' to learn more about interactive tables.';\n",
              "        element.innerHTML = '';\n",
              "        dataTable['output_type'] = 'display_data';\n",
              "        await google.colab.output.renderOutput(dataTable, element);\n",
              "        const docLink = document.createElement('div');\n",
              "        docLink.innerHTML = docLinkHtml;\n",
              "        element.appendChild(docLink);\n",
              "      }\n",
              "    </script>\n",
              "  </div>\n",
              "\n",
              "\n",
              "    <div id=\"df-dc0d0406-c9c9-4245-982d-b067783832d9\">\n",
              "      <button class=\"colab-df-quickchart\" onclick=\"quickchart('df-dc0d0406-c9c9-4245-982d-b067783832d9')\"\n",
              "                title=\"Suggest charts\"\n",
              "                style=\"display:none;\">\n",
              "\n",
              "<svg xmlns=\"http://www.w3.org/2000/svg\" height=\"24px\"viewBox=\"0 0 24 24\"\n",
              "     width=\"24px\">\n",
              "    <g>\n",
              "        <path d=\"M19 3H5c-1.1 0-2 .9-2 2v14c0 1.1.9 2 2 2h14c1.1 0 2-.9 2-2V5c0-1.1-.9-2-2-2zM9 17H7v-7h2v7zm4 0h-2V7h2v10zm4 0h-2v-4h2v4z\"/>\n",
              "    </g>\n",
              "</svg>\n",
              "      </button>\n",
              "\n",
              "<style>\n",
              "  .colab-df-quickchart {\n",
              "      --bg-color: #E8F0FE;\n",
              "      --fill-color: #1967D2;\n",
              "      --hover-bg-color: #E2EBFA;\n",
              "      --hover-fill-color: #174EA6;\n",
              "      --disabled-fill-color: #AAA;\n",
              "      --disabled-bg-color: #DDD;\n",
              "  }\n",
              "\n",
              "  [theme=dark] .colab-df-quickchart {\n",
              "      --bg-color: #3B4455;\n",
              "      --fill-color: #D2E3FC;\n",
              "      --hover-bg-color: #434B5C;\n",
              "      --hover-fill-color: #FFFFFF;\n",
              "      --disabled-bg-color: #3B4455;\n",
              "      --disabled-fill-color: #666;\n",
              "  }\n",
              "\n",
              "  .colab-df-quickchart {\n",
              "    background-color: var(--bg-color);\n",
              "    border: none;\n",
              "    border-radius: 50%;\n",
              "    cursor: pointer;\n",
              "    display: none;\n",
              "    fill: var(--fill-color);\n",
              "    height: 32px;\n",
              "    padding: 0;\n",
              "    width: 32px;\n",
              "  }\n",
              "\n",
              "  .colab-df-quickchart:hover {\n",
              "    background-color: var(--hover-bg-color);\n",
              "    box-shadow: 0 1px 2px rgba(60, 64, 67, 0.3), 0 1px 3px 1px rgba(60, 64, 67, 0.15);\n",
              "    fill: var(--button-hover-fill-color);\n",
              "  }\n",
              "\n",
              "  .colab-df-quickchart-complete:disabled,\n",
              "  .colab-df-quickchart-complete:disabled:hover {\n",
              "    background-color: var(--disabled-bg-color);\n",
              "    fill: var(--disabled-fill-color);\n",
              "    box-shadow: none;\n",
              "  }\n",
              "\n",
              "  .colab-df-spinner {\n",
              "    border: 2px solid var(--fill-color);\n",
              "    border-color: transparent;\n",
              "    border-bottom-color: var(--fill-color);\n",
              "    animation:\n",
              "      spin 1s steps(1) infinite;\n",
              "  }\n",
              "\n",
              "  @keyframes spin {\n",
              "    0% {\n",
              "      border-color: transparent;\n",
              "      border-bottom-color: var(--fill-color);\n",
              "      border-left-color: var(--fill-color);\n",
              "    }\n",
              "    20% {\n",
              "      border-color: transparent;\n",
              "      border-left-color: var(--fill-color);\n",
              "      border-top-color: var(--fill-color);\n",
              "    }\n",
              "    30% {\n",
              "      border-color: transparent;\n",
              "      border-left-color: var(--fill-color);\n",
              "      border-top-color: var(--fill-color);\n",
              "      border-right-color: var(--fill-color);\n",
              "    }\n",
              "    40% {\n",
              "      border-color: transparent;\n",
              "      border-right-color: var(--fill-color);\n",
              "      border-top-color: var(--fill-color);\n",
              "    }\n",
              "    60% {\n",
              "      border-color: transparent;\n",
              "      border-right-color: var(--fill-color);\n",
              "    }\n",
              "    80% {\n",
              "      border-color: transparent;\n",
              "      border-right-color: var(--fill-color);\n",
              "      border-bottom-color: var(--fill-color);\n",
              "    }\n",
              "    90% {\n",
              "      border-color: transparent;\n",
              "      border-bottom-color: var(--fill-color);\n",
              "    }\n",
              "  }\n",
              "</style>\n",
              "\n",
              "      <script>\n",
              "        async function quickchart(key) {\n",
              "          const quickchartButtonEl =\n",
              "            document.querySelector('#' + key + ' button');\n",
              "          quickchartButtonEl.disabled = true;  // To prevent multiple clicks.\n",
              "          quickchartButtonEl.classList.add('colab-df-spinner');\n",
              "          try {\n",
              "            const charts = await google.colab.kernel.invokeFunction(\n",
              "                'suggestCharts', [key], {});\n",
              "          } catch (error) {\n",
              "            console.error('Error during call to suggestCharts:', error);\n",
              "          }\n",
              "          quickchartButtonEl.classList.remove('colab-df-spinner');\n",
              "          quickchartButtonEl.classList.add('colab-df-quickchart-complete');\n",
              "        }\n",
              "        (() => {\n",
              "          let quickchartButtonEl =\n",
              "            document.querySelector('#df-dc0d0406-c9c9-4245-982d-b067783832d9 button');\n",
              "          quickchartButtonEl.style.display =\n",
              "            google.colab.kernel.accessAllowed ? 'block' : 'none';\n",
              "        })();\n",
              "      </script>\n",
              "    </div>\n",
              "\n",
              "    </div>\n",
              "  </div>\n"
            ],
            "application/vnd.google.colaboratory.intrinsic+json": {
              "type": "dataframe",
              "variable_name": "df",
              "summary": "{\n  \"name\": \"df\",\n  \"rows\": 6298,\n  \"fields\": [\n    {\n      \"column\": \"title\",\n      \"properties\": {\n        \"dtype\": \"string\",\n        \"num_unique_values\": 6231,\n        \"samples\": [\n          \"Day after debate, Clinton gloats and Trump fumes\",\n          \"Obama Authorizes Deploying Up To 450 More Troops To Iraq\",\n          \"Comment on Trump  s Walk of Fame Star Vandalized by MeThePeople\"\n        ],\n        \"semantic_type\": \"\",\n        \"description\": \"\"\n      }\n    },\n    {\n      \"column\": \"text\",\n      \"properties\": {\n        \"dtype\": \"string\",\n        \"num_unique_values\": 6037,\n        \"samples\": [\n          \"Donald Trump's criticism of a Muslim-American family that lost a son in Iraq has been called a potentially pivotal moment in the election. But for a host of reasons, such events are 'very, very rare.'Khizr Khan, father of fallen US Army Capt. Humayun Khan, speaks while his wife Ghazala Khan looks on during the Democratic National Convention in Philadelphia on Thursday In Election 2016, it could be called the question.It has been repeated from the moment Donald Trump entered the race, calling Mexican immigrants criminals and rapists. And it has been raised again this weekend, after Mr. Trump criticized the parents of a fallen Muslim-American soldier.Has Trump gone too far and materially damaged his chances for the presidency?The reality is, voters dont usually make up their minds that way, political scientists say. Single events rarely decide elections, and the constant attempts to forecast Trumps demise speak both to the medias continuing befuddlement over his popularity as well as a penchant toward hyperbole.The failed Iran hostage rescue mission in 1980 doomed Jimmy Carters campaign, perhaps. The stock market collapse in 2008 gave John McCain an almost impossible obstacle as the perceived heir of the Bush legacy.But Trumps comments about the family of Capt. Humayun Khan, while perhaps more damaging than other past comments, probably wont determine the winner in November.A real  game-changer is very, very rare, says Larry Sabato, director of the University of Virginias Center for Politics. But you wouldnt know that from watching television.The events began at the Democratic National Convention, where Khizr Khan, whose son died in Iraq, sharply criticized Trump. Trump responded by implying that the fallen soldiers mother had been silenced, by equating his sacrifices in building a successful business with the Khans loss, and by trying to refocus the conversation on terrorism.Some pundits have called it a pivotal moment in the campaign.But at a moment when the American electorate is increasingly polarized, there is a question of whether game-changing moments can even happen this election. Though polls show that Trump and Hillary Clinton are the two most disliked presidential candidates of the past quarter century, that dislike can freeze voters in concrete  they dont like their candidate, but theyre definitely not going to vote for the other one.Over the course of the campaign, Trumps comments have often only hardened each sides resolve instead of swaying undecided voters.Large majorities are in concrete about their party and presidential choice, says Professor Sabato. The game is over for the vast majority of voters.But others say that polls do show scope for some movement. Between 5 and 25 percent of voters are not choosing either Trump or Mrs. Clinton.This means there is still fluidity there, says Gary Nordlinger, president of a political consulting firm and adjunct professor at George Washington Universitys school of political management.And despite the high unfavorable ratings for each candidate, some voters could still switch allegiances, suggests Tobe Berkovitz, a political media consultant and chair of Boston Universitys department of mass communication.I dont think the cake is baked at this point. More important than the undecideds are the persuadables,  he says. They say they are voting for one or the other [now], but they can be pulled away. Its a real hold-your-nose election. They are voting because this one is worse than that one.The Khan episode could have an influence.This could have teeth compared with Trumps other controversial remarks, says Jennifer Lawless, director of the Women and Politics Institute at American University. There were multiple facets that people found offensive: the mother remarks, that the speech wasnt heartfelt, questions as to whether the soldier was a hero. Take your pick. Most people found part of the discussion distasteful.The effect will only become apparent after a couple weeks of polling, she says.One thing is for sure, however. The media are a poor judge of game-changing moments.The phrase game changer was used at least 19,600 times during the 2012 presidential campaign, according to research by Tim Murphy, a reporter with Mother Jones magazine. All three presidential debates were deemed game-changers, as were multiple monthly jobs reports and varying endorsements.Its in the medias interest to make everything seem like a big deal  thats what the media does and its a self-fulfilling prophecy for everyone but the voters, says Professor Berkovitz at Boston University.As John Sides and Lynn Vavreck point out in their 2012 book The Gamble, game-changers are emphasized by the media  not presidential campaigns.The continual search for game-changers treats a campaign like a boxing match, where the momentum may be shifting back and forth with every punch and the knockout blow could come at any moment. In reality, there are few knockout punches, and most game-changers do not really change the game that much.Added Mr. Murphy of Mother Jones: The moral of the story is that were still really bad at predicting the future.\",\n          \"Sesame Seeds for Knee Osteoarthritis VN:F [1.9.22_1171] Close Transcript Transcript: Sesame Seeds for Knee Osteoarthritis Below is an approximation of this video s audio content. To see any graphs, charts, graphics, images, and quotes to which Dr. Greger may be referring, watch the above video. Ever since the 1920s, doctors have been injecting arthritis patients with gold. Evidently, gold-based medicines have been in use for thousands of years, and remarkably, are still in clinical use as so called disease-modifying antirheumatic drugsmeaning they can slow the progression of rheumatoid arthritis. Unfortunately, such drugs can be toxic, even fatal, causing conditions such as gold lung, a gold-induced lung disease. Although its use can be limited by the incidence of serious toxicity, injectable gold has been shown to be beneficial. But maybe, some researchers suspected, some of that benefit is the sesame oil that s injected, which is used as the liquid carrier for the gold. Sesame seeds contain anti-inflammatory compounds, with names like sesamin and sesamol, which researchers suspect may serve as a potential treatment for various inflammatory diseases. But, these were in vitro studies. First, we have to see if it has an anti-inflammatory effect in people, not just cells in a petri dish. But, there haven t been any studies on the effects of sesame seeds on inflammatory markers in people with arthritis, for exampleuntil now. Considering the high prevalence of osteoarthritisand since until now there has not been any human studies to evaluate the effect of sesame in [osteoarthritis] patients, this study was designed to assess the effect of administration of sesame [seeds] on inflammation And, they found a significant drop in inflammatory markers. But, what effect did it have on their actual disease? Fifty patients with osteoarthritis of the knee were split into two groups; standard treatment, or standard treatment plus about a quarter-cup of sesame seeds a day, for two months. Before they started, they described their pain as about 9 out of 10where zero is no pain, and 10 is the maximum pain tolerable. After two months, the control group felt a little betterpain down to 7. But, the sesame group dropped down to 3.5significantly lower than the control group. The researchers conclude that sesame appeared to have a positive effect,improving clinical signs and symptoms in patients with knee [osteoarthritis]. But, the main problem with this study is that the control group wasn t given a placebo. It s hard to come up with a kind of fake sesame seed. But, without a placebo, they basically compared doing nothing to doing something. And, any time you have patients do something special, you can t discount the placebo effect. But, what are the downsides? I mean that s the nice thing about using food as medicineonly good side effects. Though the results are mixed, there have been studies using placebo controls that found that adding sesame seeds to one s diet may improve our cholesterol and antioxidant status. And, the amount of sesamin found in as little as about one tablespoon of sesame seeds can modestly lower blood pressure a few points within a monthenough, perhaps, to lower fatal stroke and heart attack risk by about 5%; potentially saving thousands of lives. Please consider volunteering to help out on the site. Close Sources Video Sources\",\n          \"Russias patrol ship Yaroslav Mudry arrives in Cuba on visit October 28, 2016 TASS cuba , navy The patrol ship Yaroslav Mudry. Source: Mil.ru The Russian Baltic Fleets Project 11540 patrol ship Yaroslav Mudry and the tanker Lena have arrived in the Cuban port of Havana on a business visit, fleet spokesman Roman Martov said. \\\"The patrol ship Yaroslav Mudry and the tanker Lena have arrived in Cuba on a business visit,\\\" Martov said. \\\"In the capital of Freedom Island, the Baltic Fleet sailors will replenish water and food supplies, carry out a planned check of the ships and have a rest after a trans-Atlantic passage,\\\" he added. In mid-October, the patrol ship Yaroslav Mudry left the Mediterranean Sea where it made part of the Russian Navys permanent grouping. The patrol ship was performing anti-piracy tasks in the Indian Ocean over several weeks. After that, the ship crossed the Mediterranean Sea to the Atlantic Ocean. The patrol ship started its long-distance voyage on June 1.\"\n        ],\n        \"semantic_type\": \"\",\n        \"description\": \"\"\n      }\n    },\n    {\n      \"column\": \"label\",\n      \"properties\": {\n        \"dtype\": \"number\",\n        \"std\": 0,\n        \"min\": 0,\n        \"max\": 1,\n        \"num_unique_values\": 2,\n        \"samples\": [\n          0,\n          1\n        ],\n        \"semantic_type\": \"\",\n        \"description\": \"\"\n      }\n    }\n  ]\n}"
            }
          },
          "metadata": {},
          "execution_count": 29
        }
      ]
    },
    {
      "cell_type": "code",
      "source": [
        "X = df[\"title\"]+\" \"+df[\"text\"]\n",
        "y = df[\"label\"]"
      ],
      "metadata": {
        "id": "nRjQBH15ttrz"
      },
      "execution_count": 30,
      "outputs": []
    },
    {
      "cell_type": "code",
      "source": [
        "nltk.download('punkt')\n",
        "nltk.download('punkt_tab')\n",
        "nltk.download('wordnet')\n",
        "nltk.download('omw-1.4')\n",
        "\n",
        "lemmatizer = WordNetLemmatizer()\n",
        "def lemma_tokenizer(text):\n",
        "    tokens = word_tokenize(text.lower())\n",
        "    return [lemmatizer.lemmatize(tok) for tok in tokens if tok.isalpha()]\n",
        "\n",
        "X_train, X_test, y_train, y_test = train_test_split(\n",
        "    X, y, test_size=0.2, random_state=42\n",
        ")\n",
        "\n",
        "vectorizer = CountVectorizer(\n",
        "    tokenizer=lemma_tokenizer,\n",
        "    stop_words='english'\n",
        ")\n",
        "X_train_vec = vectorizer.fit_transform(X_train)\n",
        "X_test_vec  = vectorizer.transform(X_test)"
      ],
      "metadata": {
        "id": "BvnQiAzvuuSy",
        "colab": {
          "base_uri": "https://localhost:8080/"
        },
        "outputId": "e79d1e7a-4286-4438-a687-3e0c347f4229"
      },
      "execution_count": 31,
      "outputs": [
        {
          "output_type": "stream",
          "name": "stderr",
          "text": [
            "[nltk_data] Downloading package punkt to /root/nltk_data...\n",
            "[nltk_data]   Package punkt is already up-to-date!\n",
            "[nltk_data] Downloading package punkt_tab to /root/nltk_data...\n",
            "[nltk_data]   Package punkt_tab is already up-to-date!\n",
            "[nltk_data] Downloading package wordnet to /root/nltk_data...\n",
            "[nltk_data]   Package wordnet is already up-to-date!\n",
            "[nltk_data] Downloading package omw-1.4 to /root/nltk_data...\n",
            "[nltk_data]   Package omw-1.4 is already up-to-date!\n",
            "/usr/local/lib/python3.11/dist-packages/sklearn/feature_extraction/text.py:517: UserWarning: The parameter 'token_pattern' will not be used since 'tokenizer' is not None'\n",
            "  warnings.warn(\n",
            "/usr/local/lib/python3.11/dist-packages/sklearn/feature_extraction/text.py:402: UserWarning: Your stop_words may be inconsistent with your preprocessing. Tokenizing the stop words generated tokens ['ha', 'u', 'wa'] not in stop_words.\n",
            "  warnings.warn(\n"
          ]
        }
      ]
    },
    {
      "cell_type": "markdown",
      "source": [
        "#NB"
      ],
      "metadata": {
        "id": "xk938Gns1Dt7"
      }
    },
    {
      "cell_type": "code",
      "source": [
        "model = MultinomialNB(alpha=0.5)\n",
        "model.fit(X_train_vec, y_train)\n",
        "\n",
        "y_pred = model.predict(X_test_vec)\n",
        "\n",
        "print(\"Accuracy:\", accuracy_score(y_test, y_pred))\n",
        "print(classification_report(y_test, y_pred))"
      ],
      "metadata": {
        "colab": {
          "base_uri": "https://localhost:8080/"
        },
        "id": "6oh4Nlsxu6B6",
        "outputId": "3b9dba87-8aec-495e-fa21-267ddc18951b"
      },
      "execution_count": 32,
      "outputs": [
        {
          "output_type": "stream",
          "name": "stdout",
          "text": [
            "Accuracy: 0.9007936507936508\n",
            "              precision    recall  f1-score   support\n",
            "\n",
            "           0       0.90      0.91      0.91       659\n",
            "           1       0.90      0.89      0.90       601\n",
            "\n",
            "    accuracy                           0.90      1260\n",
            "   macro avg       0.90      0.90      0.90      1260\n",
            "weighted avg       0.90      0.90      0.90      1260\n",
            "\n"
          ]
        }
      ]
    },
    {
      "cell_type": "code",
      "metadata": {
        "colab": {
          "base_uri": "https://localhost:8080/"
        },
        "id": "Ld04E4s04gL5",
        "outputId": "a27d29e4-cdf7-496c-82bf-ed5fbcaf535a"
      },
      "source": [
        "n_features = X_train_vec.shape[1]\n",
        "initial_type = [('float_input', FloatTensorType([None, n_features]))]\n",
        "\n",
        "target_opset = 12\n",
        "options = { id(model): {\"zipmap\": False} }\n",
        "onnx_model = convert_sklearn(\n",
        "    model,\n",
        "    initial_types=initial_type,\n",
        "    options=options,\n",
        "    target_opset=target_opset\n",
        ")\n",
        "\n",
        "\n",
        "onnx_model_path = \"naive_bayes.onnx\"\n",
        "with open(onnx_model_path, \"wb\") as f:\n",
        "    f.write(onnx_model.SerializeToString())\n",
        "\n",
        "print(f\"Model saved to {onnx_model_path}\")"
      ],
      "execution_count": 33,
      "outputs": [
        {
          "output_type": "stream",
          "name": "stdout",
          "text": [
            "Model saved to naive_bayes.onnx\n"
          ]
        }
      ]
    },
    {
      "cell_type": "code",
      "source": [
        "print(model.predict(vectorizer.transform([\"Kicking the can down the road on tariffs won't work for this Maryland manufacturer Independent Can Company has raised prices twice this year already after Trump imposed 25% duties on steel in March, and then doubled them in June.\"])))\n",
        "print(model.predict(vectorizer.transform([\"Fact Sheet: The United States and European Union Reach Massive Trade Deal The White House July 28, 2025 MAKING GLOBAL HISTORY: Yesterday, announced a trade deal with the European Union (EU), fundamentally rebalancing the economic relationship between the world’s two largest economies. The deal marks a generational modernization of the transatlantic alliance and will provide Americans with unprecedented levels of market access to the European Union. The deal bolsters America’s economy and manufacturing capabilities. The EU will purchase $750 billion in U.S. energy and make new investments of $600 billion in the United States, all by 2028. Through decisive leadership and an unyielding commitment to American workers, President Trump has delivered yet another agreement that positions the United States as the world’s preeminent destination for investment, innovation, and advanced manufacturing. REACHING A HISTORIC TRADE DEAL: President Trump’s agreement with the European Union achieves historic structural reforms and strategic commitments that will benefit American industry, workers, and national security for generations: The United States and European Union reached a Cooperation Agreement on Reciprocal, Fair and Balanced Trade. This colossal deal will enable U.S. farmers, ranchers, fishermen, and manufacturers to increase U.S. exports, expand business opportunities, and help reduce the goods trade deficit with the European Union.  The EU will remove significant tariffs, including the elimination of all EU tariffs on U.S. industrial goods exported to the EU, creating enormous opportunities for American-made and American-grown goods to compete and win in Europe. This new market access will drive growth across the American economy—fueling exports, expanding production, and allowing American businesses of all sizes to reach millions of new customers across the Atlantic. As part of President Trump’s strategy to establish balanced trade, the European Union will pay the United States a tariff rate of 15%, including on autos and auto parts, pharmaceuticals, and semiconductors. However, the sectoral tariffs on steel, aluminum, and copper will remain unchanged—the EU will continue to pay 50% and the parties will discuss securing supply chains for these products. This new tariff regime will generate tens of billions of dollars in revenue annually and help to close the longstanding trade imbalance between the United States and Europe by encouraging local sourcing, reshoring production, and ensuring that foreign producers contribute their fair share to the American economy.\"])))\n"
      ],
      "metadata": {
        "colab": {
          "base_uri": "https://localhost:8080/"
        },
        "id": "7UpJaqKuvFD8",
        "outputId": "e92d1802-54f1-457a-bb25-37e0e61c3878"
      },
      "execution_count": 34,
      "outputs": [
        {
          "output_type": "stream",
          "name": "stdout",
          "text": [
            "[0]\n",
            "[1]\n"
          ]
        }
      ]
    },
    {
      "cell_type": "code",
      "source": [
        "import numpy as np\n",
        "\n",
        "feature_names = vectorizer.get_feature_names_out()\n",
        "\n",
        "log_prob = model.feature_log_prob_\n",
        "\n",
        "n_top = 20\n",
        "\n",
        "for class_idx, class_label in enumerate(['REAL', 'FAKE']):\n",
        "    print(f\"\\nTop {n_top} words for class '{class_label}':\")\n",
        "\n",
        "    top_feature_indices = np.argsort(log_prob[class_idx])[::-1][:n_top]\n",
        "\n",
        "    for i in top_feature_indices:\n",
        "        word = feature_names[i]\n",
        "        prob = np.exp(log_prob[class_idx][i])\n",
        "        print(f\"{word}: {prob:.4f}\")\n"
      ],
      "metadata": {
        "colab": {
          "base_uri": "https://localhost:8080/"
        },
        "id": "llSCOzM-xYBO",
        "outputId": "a879c3b5-9823-40f6-b3eb-25b94c62fce9"
      },
      "execution_count": 35,
      "outputs": [
        {
          "output_type": "stream",
          "name": "stdout",
          "text": [
            "\n",
            "Top 20 words for class 'REAL':\n",
            "wa: 0.0113\n",
            "said: 0.0108\n",
            "trump: 0.0102\n",
            "ha: 0.0096\n",
            "clinton: 0.0070\n",
            "state: 0.0067\n",
            "republican: 0.0056\n",
            "people: 0.0044\n",
            "president: 0.0042\n",
            "s: 0.0042\n",
            "new: 0.0041\n",
            "campaign: 0.0040\n",
            "obama: 0.0037\n",
            "say: 0.0036\n",
            "year: 0.0034\n",
            "time: 0.0033\n",
            "party: 0.0033\n",
            "candidate: 0.0031\n",
            "american: 0.0030\n",
            "like: 0.0027\n",
            "\n",
            "Top 20 words for class 'FAKE':\n",
            "wa: 0.0097\n",
            "ha: 0.0083\n",
            "clinton: 0.0066\n",
            "trump: 0.0063\n",
            "s: 0.0056\n",
            "people: 0.0048\n",
            "u: 0.0046\n",
            "state: 0.0045\n",
            "hillary: 0.0045\n",
            "said: 0.0036\n",
            "time: 0.0035\n",
            "election: 0.0034\n",
            "american: 0.0032\n",
            "new: 0.0032\n",
            "year: 0.0032\n",
            "just: 0.0031\n",
            "like: 0.0029\n",
            "world: 0.0028\n",
            "government: 0.0026\n",
            "war: 0.0026\n"
          ]
        }
      ]
    },
    {
      "cell_type": "markdown",
      "source": [
        "#SVM"
      ],
      "metadata": {
        "id": "hUqNnOwe1HFo"
      }
    },
    {
      "cell_type": "code",
      "source": [
        "svm = LinearSVC(max_iter=10000)\n",
        "svm.fit(X_train_vec, y_train)\n",
        "\n",
        "y_pred_svm = svm.predict(X_test_vec)\n",
        "\n",
        "print(\"SVM Accuracy:\", accuracy_score(y_test, y_pred_svm))\n",
        "print(\"\\nClassification Report:\")\n",
        "print(classification_report(y_test, y_pred_svm))"
      ],
      "metadata": {
        "colab": {
          "base_uri": "https://localhost:8080/"
        },
        "id": "isjL4l861I4h",
        "outputId": "745c6100-4a80-4a23-f24e-88ba241369a5"
      },
      "execution_count": 36,
      "outputs": [
        {
          "output_type": "stream",
          "name": "stdout",
          "text": [
            "SVM Accuracy: 0.9\n",
            "\n",
            "Classification Report:\n",
            "              precision    recall  f1-score   support\n",
            "\n",
            "           0       0.91      0.90      0.90       659\n",
            "           1       0.89      0.90      0.90       601\n",
            "\n",
            "    accuracy                           0.90      1260\n",
            "   macro avg       0.90      0.90      0.90      1260\n",
            "weighted avg       0.90      0.90      0.90      1260\n",
            "\n"
          ]
        }
      ]
    },
    {
      "cell_type": "code",
      "source": [
        "onnx_model = convert_sklearn(svm, initial_types=initial_type, target_opset=target_opset)\n",
        "onnx_model_path = \"svm.onnx\"\n",
        "with open(onnx_model_path, \"wb\") as f:\n",
        "    f.write(onnx_model.SerializeToString())\n",
        "\n",
        "print(f\"Model saved to {onnx_model_path}\")"
      ],
      "metadata": {
        "colab": {
          "base_uri": "https://localhost:8080/"
        },
        "id": "eMcF7Jvs7M1g",
        "outputId": "9f1b5f33-804b-4933-e00b-1bf39852599d"
      },
      "execution_count": 37,
      "outputs": [
        {
          "output_type": "stream",
          "name": "stdout",
          "text": [
            "Model saved to svm.onnx\n"
          ]
        }
      ]
    },
    {
      "cell_type": "code",
      "source": [
        "print(svm.predict(vectorizer.transform([\"Kicking the can down the road on tariffs won't work for this Maryland manufacturer Independent Can Company has raised prices twice this year already after Trump imposed 25% duties on steel in March, and then doubled them in June.\"])))\n",
        "print(svm.predict(vectorizer.transform([\"Fact Sheet: The United States and European Union Reach Massive Trade Deal The White House July 28, 2025 MAKING GLOBAL HISTORY: Yesterday, President Donald J. Trump announced a trade deal with the European Union (EU), fundamentally rebalancing the economic relationship between the world’s two largest economies. The deal marks a generational modernization of the transatlantic alliance and will provide Americans with unprecedented levels of market access to the European Union. The deal bolsters America’s economy and manufacturing capabilities. The EU will purchase $750 billion in U.S. energy and make new investments of $600 billion in the United States, all by 2028. Through decisive leadership and an unyielding commitment to American workers, President Trump has delivered yet another agreement that positions the United States as the world’s preeminent destination for investment, innovation, and advanced manufacturing. REACHING A HISTORIC TRADE DEAL: President Trump’s agreement with the European Union achieves historic structural reforms and strategic commitments that will benefit American industry, workers, and national security for generations: The United States and European Union reached a Cooperation Agreement on Reciprocal, Fair and Balanced Trade. This colossal deal will enable U.S. farmers, ranchers, fishermen, and manufacturers to increase U.S. exports, expand business opportunities, and help reduce the goods trade deficit with the European Union.  The EU will remove significant tariffs, including the elimination of all EU tariffs on U.S. industrial goods exported to the EU, creating enormous opportunities for American-made and American-grown goods to compete and win in Europe. This new market access will drive growth across the American economy—fueling exports, expanding production, and allowing American businesses of all sizes to reach millions of new customers across the Atlantic. As part of President Trump’s strategy to establish balanced trade, the European Union will pay the United States a tariff rate of 15%, including on autos and auto parts, pharmaceuticals, and semiconductors. However, the sectoral tariffs on steel, aluminum, and copper will remain unchanged—the EU will continue to pay 50% and the parties will discuss securing supply chains for these products. This new tariff regime will generate tens of billions of dollars in revenue annually and help to close the longstanding trade imbalance between the United States and Europe by encouraging local sourcing, reshoring production, and ensuring that foreign producers contribute their fair share to the American economy.\"])))\n"
      ],
      "metadata": {
        "colab": {
          "base_uri": "https://localhost:8080/"
        },
        "id": "pYqRwuLd1b3c",
        "outputId": "bcd0e7b9-48b9-4321-d5ee-b11687f5f520"
      },
      "execution_count": 38,
      "outputs": [
        {
          "output_type": "stream",
          "name": "stdout",
          "text": [
            "[0]\n",
            "[0]\n"
          ]
        }
      ]
    },
    {
      "cell_type": "code",
      "source": [
        "import numpy as np\n",
        "\n",
        "feature_names = vectorizer.get_feature_names_out()\n",
        "\n",
        "\n",
        "coefs = svm.coef_[0]\n",
        "\n",
        "n_top = 20\n",
        "\n",
        "top_fake_indices = np.argsort(coefs)[::-1][:n_top]\n",
        "print(f\"\\nTop {n_top} words for class 'FAKE':\")\n",
        "for i in top_fake_indices:\n",
        "    print(f\"{feature_names[i]}: {coefs[i]:.4f}\")\n",
        "\n",
        "top_real_indices = np.argsort(coefs)[:n_top]\n",
        "print(f\"\\nTop {n_top} words for class 'REAL':\")\n",
        "for i in top_real_indices:\n",
        "    print(f\"{feature_names[i]}: {coefs[i]:.4f}\")\n"
      ],
      "metadata": {
        "colab": {
          "base_uri": "https://localhost:8080/"
        },
        "id": "u2Fow9CU1m29",
        "outputId": "6301d78e-3f2f-4baf-e90d-026ef6fb4f31"
      },
      "execution_count": 39,
      "outputs": [
        {
          "output_type": "stream",
          "name": "stdout",
          "text": [
            "\n",
            "Top 20 words for class 'FAKE':\n",
            "october: 0.3909\n",
            "cave: 0.3224\n",
            "dog: 0.2984\n",
            "flashback: 0.2966\n",
            "share: 0.2941\n",
            "remixed: 0.2906\n",
            "controlled: 0.2837\n",
            "conservatism: 0.2629\n",
            "dad: 0.2618\n",
            "mormon: 0.2602\n",
            "rise: 0.2514\n",
            "populism: 0.2451\n",
            "print: 0.2430\n",
            "reader: 0.2287\n",
            "prepare: 0.2147\n",
            "source: 0.2129\n",
            "establishment: 0.2113\n",
            "ibid: 0.2102\n",
            "zika: 0.2102\n",
            "identity: 0.2087\n",
            "\n",
            "Top 20 words for class 'REAL':\n",
            "feud: -0.4817\n",
            "quote: -0.4753\n",
            "nailing: -0.3532\n",
            "gop: -0.3337\n",
            "passion: -0.3151\n",
            "easier: -0.3017\n",
            "trade: -0.3017\n",
            "insist: -0.2910\n",
            "consequence: -0.2821\n",
            "rush: -0.2747\n",
            "protective: -0.2690\n",
            "bernie: -0.2669\n",
            "defending: -0.2665\n",
            "shortage: -0.2587\n",
            "demo: -0.2538\n",
            "sweeping: -0.2537\n",
            "naked: -0.2483\n",
            "fit: -0.2466\n",
            "failed: -0.2427\n",
            "transition: -0.2399\n"
          ]
        }
      ]
    },
    {
      "cell_type": "markdown",
      "source": [
        "#XGBoost"
      ],
      "metadata": {
        "id": "-F2meS0_2uBU"
      }
    },
    {
      "cell_type": "code",
      "source": [
        "xgb = XGBClassifier(eval_metric='logloss')\n",
        "xgb.fit(X_train_vec, y_train)\n",
        "\n",
        "y_pred_xgb = xgb.predict(X_test_vec)\n",
        "print(\"XGB Accuracy:\", accuracy_score(y_test, y_pred_xgb))\n",
        "print(\"\\nClassification Report:\")\n",
        "print(classification_report(y_test, y_pred_xgb))"
      ],
      "metadata": {
        "colab": {
          "base_uri": "https://localhost:8080/"
        },
        "id": "M1LGs3R12vwi",
        "outputId": "a521f836-c635-4d47-8565-9f749e364a97"
      },
      "execution_count": 40,
      "outputs": [
        {
          "output_type": "stream",
          "name": "stdout",
          "text": [
            "XGB Accuracy: 0.9253968253968254\n",
            "\n",
            "Classification Report:\n",
            "              precision    recall  f1-score   support\n",
            "\n",
            "           0       0.94      0.91      0.93       659\n",
            "           1       0.91      0.94      0.92       601\n",
            "\n",
            "    accuracy                           0.93      1260\n",
            "   macro avg       0.93      0.93      0.93      1260\n",
            "weighted avg       0.93      0.93      0.93      1260\n",
            "\n"
          ]
        }
      ]
    },
    {
      "cell_type": "code",
      "source": [
        "n_features = len(vectorizer.vocabulary_)\n",
        "initial_types = [\n",
        "    ('input', FTT([None, n_features]))\n",
        "]\n",
        "\n",
        "onnx_xgb = convert_xgboost(\n",
        "    xgb,\n",
        "    initial_types=initial_types,\n",
        "    target_opset=target_opset\n",
        ")\n",
        "\n",
        "with open(\"xgboost.onnx\", \"wb\") as f:\n",
        "    f.write(onnx_xgb.SerializeToString())"
      ],
      "metadata": {
        "id": "5JEXXnUjNcil"
      },
      "execution_count": 41,
      "outputs": []
    },
    {
      "cell_type": "code",
      "source": [
        "print(xgb.predict(vectorizer.transform([\"Kicking the can down the road on tariffs won't work for this Maryland manufacturer Independent Can Company has raised prices twice this year already after Trump imposed 25% duties on steel in March, and then doubled them in June.\"])))\n",
        "print(xgb.predict(vectorizer.transform([\"Fact Sheet: The United States and European Union Reach Massive Trade Deal The White House July 28, 2025 MAKING GLOBAL HISTORY: Yesterday, President Donald J. Trump announced a trade deal with the European Union (EU), fundamentally rebalancing the economic relationship between the world’s two largest economies. The deal marks a generational modernization of the transatlantic alliance and will provide Americans with unprecedented levels of market access to the European Union. The deal bolsters America’s economy and manufacturing capabilities. The EU will purchase $750 billion in U.S. energy and make new investments of $600 billion in the United States, all by 2028. Through decisive leadership and an unyielding commitment to American workers, President Trump has delivered yet another agreement that positions the United States as the world’s preeminent destination for investment, innovation, and advanced manufacturing. REACHING A HISTORIC TRADE DEAL: President Trump’s agreement with the European Union achieves historic structural reforms and strategic commitments that will benefit American industry, workers, and national security for generations: The United States and European Union reached a Cooperation Agreement on Reciprocal, Fair and Balanced Trade. This colossal deal will enable U.S. farmers, ranchers, fishermen, and manufacturers to increase U.S. exports, expand business opportunities, and help reduce the goods trade deficit with the European Union.  The EU will remove significant tariffs, including the elimination of all EU tariffs on U.S. industrial goods exported to the EU, creating enormous opportunities for American-made and American-grown goods to compete and win in Europe. This new market access will drive growth across the American economy—fueling exports, expanding production, and allowing American businesses of all sizes to reach millions of new customers across the Atlantic. As part of President Trump’s strategy to establish balanced trade, the European Union will pay the United States a tariff rate of 15%, including on autos and auto parts, pharmaceuticals, and semiconductors. However, the sectoral tariffs on steel, aluminum, and copper will remain unchanged—the EU will continue to pay 50% and the parties will discuss securing supply chains for these products. This new tariff regime will generate tens of billions of dollars in revenue annually and help to close the longstanding trade imbalance between the United States and Europe by encouraging local sourcing, reshoring production, and ensuring that foreign producers contribute their fair share to the American economy.\"])))\n"
      ],
      "metadata": {
        "id": "t96UDv8H4L_s",
        "colab": {
          "base_uri": "https://localhost:8080/"
        },
        "outputId": "645e8772-568a-433c-ddab-d2d61fe5ecfe"
      },
      "execution_count": 42,
      "outputs": [
        {
          "output_type": "stream",
          "name": "stdout",
          "text": [
            "[0]\n",
            "[1]\n"
          ]
        }
      ]
    },
    {
      "cell_type": "code",
      "source": [
        "feature_names = vectorizer.get_feature_names_out()\n",
        "\n",
        "importances = xgb.feature_importances_\n",
        "\n",
        "n_top = 20\n",
        "top_indices = np.argsort(importances)[::-1][:n_top]\n",
        "\n",
        "print(f\"\\nTop {n_top} most important words (XGBoost):\")\n",
        "for i in top_indices:\n",
        "    print(f\"{feature_names[i]}: {importances[i]:.4f}\")"
      ],
      "metadata": {
        "id": "nAU7g2bI4vS4",
        "colab": {
          "base_uri": "https://localhost:8080/"
        },
        "outputId": "4fb9dfaf-8b45-4088-ab4e-b66e6bdbf901"
      },
      "execution_count": 43,
      "outputs": [
        {
          "output_type": "stream",
          "name": "stdout",
          "text": [
            "\n",
            "Top 20 most important words (XGBoost):\n",
            "gop: 0.0254\n",
            "republican: 0.0219\n",
            "cruz: 0.0134\n",
            "said: 0.0133\n",
            "nomination: 0.0110\n",
            "october: 0.0107\n",
            "reform: 0.0086\n",
            "fbi: 0.0084\n",
            "stolen: 0.0081\n",
            "http: 0.0080\n",
            "obama: 0.0078\n",
            "rubio: 0.0076\n",
            "article: 0.0074\n",
            "november: 0.0074\n",
            "obamacare: 0.0071\n",
            "percent: 0.0070\n",
            "hatred: 0.0068\n",
            "jewish: 0.0067\n",
            "debate: 0.0061\n",
            "print: 0.0061\n"
          ]
        }
      ]
    },
    {
      "cell_type": "code",
      "source": [
        "1/0"
      ],
      "metadata": {
        "id": "nIIwM_HG6_Oz"
      },
      "execution_count": 44,
      "outputs": []
    },
    {
      "cell_type": "markdown",
      "source": [
        "#Exporting"
      ],
      "metadata": {
        "id": "UAcjBf0Q7AMl"
      }
    },
    {
      "cell_type": "code",
      "source": [
        "files.download(\"naive_bayes.onnx\")"
      ],
      "metadata": {
        "colab": {
          "base_uri": "https://localhost:8080/",
          "height": 17
        },
        "id": "7nY7iOrF7Cht",
        "outputId": "78ce7a3b-5caa-4f8c-878f-3714e5757d18"
      },
      "execution_count": 45,
      "outputs": [
        {
          "output_type": "display_data",
          "data": {
            "text/plain": [
              "<IPython.core.display.Javascript object>"
            ],
            "application/javascript": [
              "\n",
              "    async function download(id, filename, size) {\n",
              "      if (!google.colab.kernel.accessAllowed) {\n",
              "        return;\n",
              "      }\n",
              "      const div = document.createElement('div');\n",
              "      const label = document.createElement('label');\n",
              "      label.textContent = `Downloading \"${filename}\": `;\n",
              "      div.appendChild(label);\n",
              "      const progress = document.createElement('progress');\n",
              "      progress.max = size;\n",
              "      div.appendChild(progress);\n",
              "      document.body.appendChild(div);\n",
              "\n",
              "      const buffers = [];\n",
              "      let downloaded = 0;\n",
              "\n",
              "      const channel = await google.colab.kernel.comms.open(id);\n",
              "      // Send a message to notify the kernel that we're ready.\n",
              "      channel.send({})\n",
              "\n",
              "      for await (const message of channel.messages) {\n",
              "        // Send a message to notify the kernel that we're ready.\n",
              "        channel.send({})\n",
              "        if (message.buffers) {\n",
              "          for (const buffer of message.buffers) {\n",
              "            buffers.push(buffer);\n",
              "            downloaded += buffer.byteLength;\n",
              "            progress.value = downloaded;\n",
              "          }\n",
              "        }\n",
              "      }\n",
              "      const blob = new Blob(buffers, {type: 'application/binary'});\n",
              "      const a = document.createElement('a');\n",
              "      a.href = window.URL.createObjectURL(blob);\n",
              "      a.download = filename;\n",
              "      div.appendChild(a);\n",
              "      a.click();\n",
              "      div.remove();\n",
              "    }\n",
              "  "
            ]
          },
          "metadata": {}
        },
        {
          "output_type": "display_data",
          "data": {
            "text/plain": [
              "<IPython.core.display.Javascript object>"
            ],
            "application/javascript": [
              "download(\"download_126a3b1b-6052-42e1-ad7c-f8f9c99e2f70\", \"naive_bayes.onnx\", 445689)"
            ]
          },
          "metadata": {}
        }
      ]
    },
    {
      "cell_type": "code",
      "source": [
        "files.download(\"svm.onnx\")"
      ],
      "metadata": {
        "colab": {
          "base_uri": "https://localhost:8080/",
          "height": 17
        },
        "id": "M9N8W95R7E1W",
        "outputId": "edd9ccf4-ef7f-47fd-bf0c-2b2ef3f53832"
      },
      "execution_count": 46,
      "outputs": [
        {
          "output_type": "display_data",
          "data": {
            "text/plain": [
              "<IPython.core.display.Javascript object>"
            ],
            "application/javascript": [
              "\n",
              "    async function download(id, filename, size) {\n",
              "      if (!google.colab.kernel.accessAllowed) {\n",
              "        return;\n",
              "      }\n",
              "      const div = document.createElement('div');\n",
              "      const label = document.createElement('label');\n",
              "      label.textContent = `Downloading \"${filename}\": `;\n",
              "      div.appendChild(label);\n",
              "      const progress = document.createElement('progress');\n",
              "      progress.max = size;\n",
              "      div.appendChild(progress);\n",
              "      document.body.appendChild(div);\n",
              "\n",
              "      const buffers = [];\n",
              "      let downloaded = 0;\n",
              "\n",
              "      const channel = await google.colab.kernel.comms.open(id);\n",
              "      // Send a message to notify the kernel that we're ready.\n",
              "      channel.send({})\n",
              "\n",
              "      for await (const message of channel.messages) {\n",
              "        // Send a message to notify the kernel that we're ready.\n",
              "        channel.send({})\n",
              "        if (message.buffers) {\n",
              "          for (const buffer of message.buffers) {\n",
              "            buffers.push(buffer);\n",
              "            downloaded += buffer.byteLength;\n",
              "            progress.value = downloaded;\n",
              "          }\n",
              "        }\n",
              "      }\n",
              "      const blob = new Blob(buffers, {type: 'application/binary'});\n",
              "      const a = document.createElement('a');\n",
              "      a.href = window.URL.createObjectURL(blob);\n",
              "      a.download = filename;\n",
              "      div.appendChild(a);\n",
              "      a.click();\n",
              "      div.remove();\n",
              "    }\n",
              "  "
            ]
          },
          "metadata": {}
        },
        {
          "output_type": "display_data",
          "data": {
            "text/plain": [
              "<IPython.core.display.Javascript object>"
            ],
            "application/javascript": [
              "download(\"download_ffc9dbf8-ca50-4768-84db-812784b92dc7\", \"svm.onnx\", 556268)"
            ]
          },
          "metadata": {}
        }
      ]
    },
    {
      "cell_type": "code",
      "source": [
        "files.download(\"xgboost.onnx\")"
      ],
      "metadata": {
        "colab": {
          "base_uri": "https://localhost:8080/",
          "height": 17
        },
        "id": "a_CwBA087mPz",
        "outputId": "7687fa11-a473-49ec-d8f4-b4631f3ebdef"
      },
      "execution_count": 47,
      "outputs": [
        {
          "output_type": "display_data",
          "data": {
            "text/plain": [
              "<IPython.core.display.Javascript object>"
            ],
            "application/javascript": [
              "\n",
              "    async function download(id, filename, size) {\n",
              "      if (!google.colab.kernel.accessAllowed) {\n",
              "        return;\n",
              "      }\n",
              "      const div = document.createElement('div');\n",
              "      const label = document.createElement('label');\n",
              "      label.textContent = `Downloading \"${filename}\": `;\n",
              "      div.appendChild(label);\n",
              "      const progress = document.createElement('progress');\n",
              "      progress.max = size;\n",
              "      div.appendChild(progress);\n",
              "      document.body.appendChild(div);\n",
              "\n",
              "      const buffers = [];\n",
              "      let downloaded = 0;\n",
              "\n",
              "      const channel = await google.colab.kernel.comms.open(id);\n",
              "      // Send a message to notify the kernel that we're ready.\n",
              "      channel.send({})\n",
              "\n",
              "      for await (const message of channel.messages) {\n",
              "        // Send a message to notify the kernel that we're ready.\n",
              "        channel.send({})\n",
              "        if (message.buffers) {\n",
              "          for (const buffer of message.buffers) {\n",
              "            buffers.push(buffer);\n",
              "            downloaded += buffer.byteLength;\n",
              "            progress.value = downloaded;\n",
              "          }\n",
              "        }\n",
              "      }\n",
              "      const blob = new Blob(buffers, {type: 'application/binary'});\n",
              "      const a = document.createElement('a');\n",
              "      a.href = window.URL.createObjectURL(blob);\n",
              "      a.download = filename;\n",
              "      div.appendChild(a);\n",
              "      a.click();\n",
              "      div.remove();\n",
              "    }\n",
              "  "
            ]
          },
          "metadata": {}
        },
        {
          "output_type": "display_data",
          "data": {
            "text/plain": [
              "<IPython.core.display.Javascript object>"
            ],
            "application/javascript": [
              "download(\"download_86fb7238-e308-46dc-86c3-2e0847520691\", \"xgboost.onnx\", 131618)"
            ]
          },
          "metadata": {}
        }
      ]
    },
    {
      "cell_type": "code",
      "source": [
        "import json\n",
        "\n",
        "with open(\"vectorizer.json\", \"w\") as f:\n",
        "    json.dump(vectorizer.vocabulary_, f)\n",
        "\n",
        "files.download(\"vectorizer.json\")"
      ],
      "metadata": {
        "colab": {
          "base_uri": "https://localhost:8080/",
          "height": 17
        },
        "id": "rwTFz1fEOcEt",
        "outputId": "e714a5a8-fc8f-45e1-9161-3bd6c67318e2"
      },
      "execution_count": 48,
      "outputs": [
        {
          "output_type": "display_data",
          "data": {
            "text/plain": [
              "<IPython.core.display.Javascript object>"
            ],
            "application/javascript": [
              "\n",
              "    async function download(id, filename, size) {\n",
              "      if (!google.colab.kernel.accessAllowed) {\n",
              "        return;\n",
              "      }\n",
              "      const div = document.createElement('div');\n",
              "      const label = document.createElement('label');\n",
              "      label.textContent = `Downloading \"${filename}\": `;\n",
              "      div.appendChild(label);\n",
              "      const progress = document.createElement('progress');\n",
              "      progress.max = size;\n",
              "      div.appendChild(progress);\n",
              "      document.body.appendChild(div);\n",
              "\n",
              "      const buffers = [];\n",
              "      let downloaded = 0;\n",
              "\n",
              "      const channel = await google.colab.kernel.comms.open(id);\n",
              "      // Send a message to notify the kernel that we're ready.\n",
              "      channel.send({})\n",
              "\n",
              "      for await (const message of channel.messages) {\n",
              "        // Send a message to notify the kernel that we're ready.\n",
              "        channel.send({})\n",
              "        if (message.buffers) {\n",
              "          for (const buffer of message.buffers) {\n",
              "            buffers.push(buffer);\n",
              "            downloaded += buffer.byteLength;\n",
              "            progress.value = downloaded;\n",
              "          }\n",
              "        }\n",
              "      }\n",
              "      const blob = new Blob(buffers, {type: 'application/binary'});\n",
              "      const a = document.createElement('a');\n",
              "      a.href = window.URL.createObjectURL(blob);\n",
              "      a.download = filename;\n",
              "      div.appendChild(a);\n",
              "      a.click();\n",
              "      div.remove();\n",
              "    }\n",
              "  "
            ]
          },
          "metadata": {}
        },
        {
          "output_type": "display_data",
          "data": {
            "text/plain": [
              "<IPython.core.display.Javascript object>"
            ],
            "application/javascript": [
              "download(\"download_3775cc85-f5c6-4e2c-8514-b41e4fa8ab44\", \"vectorizer.json\", 1046837)"
            ]
          },
          "metadata": {}
        }
      ]
    }
  ]
}